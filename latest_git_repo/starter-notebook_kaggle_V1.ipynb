{
 "cells": [
  {
   "cell_type": "code",
   "execution_count": null,
   "metadata": {
    "_cell_guid": "b1076dfc-b9ad-4769-8c92-a6c4dae69d19",
    "_uuid": "8f2839f25d086af736a60e9eeb907d3b93b6e0e5",
    "execution": {
     "iopub.execute_input": "2025-02-03T21:08:43.118273Z",
     "iopub.status.busy": "2025-02-03T21:08:43.117876Z",
     "iopub.status.idle": "2025-02-03T21:08:43.122050Z",
     "shell.execute_reply": "2025-02-03T21:08:43.121022Z",
     "shell.execute_reply.started": "2025-02-03T21:08:43.118249Z"
    },
    "trusted": true
   },
   "outputs": [],
   "source": [
    "# # This Python 3 environment comes with many helpful analytics libraries installed\n",
    "# # It is defined by the kaggle/python Docker image: https://github.com/kaggle/docker-python\n",
    "# # For example, here's several helpful packages to load\n",
    "\n",
    "# import numpy as np # linear algebra\n",
    "# import pandas as pd # data processing, CSV file I/O (e.g. pd.read_csv)\n",
    "\n",
    "# # Input data files are available in the read-only \"../input/\" directory\n",
    "# # For example, running this (by clicking run or pressing Shift+Enter) will list all files under the input directory\n",
    "\n",
    "# import os\n",
    "# for dirname, _, filenames in os.walk('/kaggle/input'):\n",
    "#     for filename in filenames:\n",
    "#         print(os.path.join(dirname, filename))\n",
    "\n",
    "# # You can write up to 20GB to the current directory (/kaggle/working/) that gets preserved as output when you create a version using \"Save & Run All\" \n",
    "# # You can also write temporary files to /kaggle/temp/, but they won't be saved outside of the current session"
   ]
  },
  {
   "cell_type": "markdown",
   "metadata": {},
   "source": [
    "## Install InstaGeo"
   ]
  },
  {
   "cell_type": "code",
   "execution_count": null,
   "metadata": {
    "execution": {
     "iopub.execute_input": "2025-02-03T21:08:43.155181Z",
     "iopub.status.busy": "2025-02-03T21:08:43.154849Z",
     "iopub.status.idle": "2025-02-03T21:08:43.289751Z",
     "shell.execute_reply": "2025-02-03T21:08:43.288611Z",
     "shell.execute_reply.started": "2025-02-03T21:08:43.155143Z"
    },
    "trusted": true
   },
   "outputs": [],
   "source": [
    "# # Clone the InstaGeo-E2E-Geospatial-ML repository from GitHub\n",
    "# repository_url = \"https://github.com/instadeepai/InstaGeo-E2E-Geospatial-ML\"\n",
    "# !git clone {repository_url}"
   ]
  },
  {
   "cell_type": "code",
   "execution_count": null,
   "metadata": {
    "execution": {
     "iopub.execute_input": "2025-02-03T21:08:43.291817Z",
     "iopub.status.busy": "2025-02-03T21:08:43.291420Z",
     "iopub.status.idle": "2025-02-03T21:08:43.559122Z",
     "shell.execute_reply": "2025-02-03T21:08:43.558242Z",
     "shell.execute_reply.started": "2025-02-03T21:08:43.291780Z"
    },
    "trusted": true
   },
   "outputs": [],
   "source": [
    "# %%bash\n",
    "# cd InstaGeo-E2E-Geospatial-ML\n",
    "# git pull"
   ]
  },
  {
   "cell_type": "code",
   "execution_count": null,
   "metadata": {
    "execution": {
     "iopub.execute_input": "2025-02-03T21:08:43.560270Z",
     "iopub.status.busy": "2025-02-03T21:08:43.560042Z",
     "iopub.status.idle": "2025-02-03T21:08:59.865705Z",
     "shell.execute_reply": "2025-02-03T21:08:59.864913Z",
     "shell.execute_reply.started": "2025-02-03T21:08:43.560251Z"
    },
    "trusted": true
   },
   "outputs": [],
   "source": [
    "# %%capture\n",
    "# %%bash\n",
    "# # Navigate to the cloned InstaGeo-E2E-Geospatial-ML directory\n",
    "# cd /kaggle/working/InstaGeo-E2E-Geospatial-ML\n",
    "# # Stash any local changes to avoid conflicts when switching branches\n",
    "# git stash\n",
    "# #Switch to the 'geo-ai-hack' branch, which likely contains specific code for the Geo AI Hackathon\n",
    "# git checkout geo-ai-hack\n",
    "# # Install the InstaGeo package \n",
    "# pip install -e .[all]"
   ]
  },
  {
   "cell_type": "code",
   "execution_count": 1,
   "metadata": {
    "trusted": true
   },
   "outputs": [],
   "source": [
    "# Import necessary libraries\n",
    "import os\n",
    "import re\n",
    "import shutil\n",
    "import yaml\n",
    "import pandas as pd\n",
    "import numpy as np\n",
    "from pathlib import Path\n",
    "from pyproj import CRS, Transformer\n",
    "import rasterio\n",
    "os.environ[\"HYDRA_FULL_ERROR\"] =\"1\""
   ]
  },
  {
   "cell_type": "code",
   "execution_count": 2,
   "metadata": {
    "execution": {
     "iopub.execute_input": "2025-02-03T21:08:59.866859Z",
     "iopub.status.busy": "2025-02-03T21:08:59.866626Z",
     "iopub.status.idle": "2025-02-03T21:08:59.872933Z",
     "shell.execute_reply": "2025-02-03T21:08:59.872080Z",
     "shell.execute_reply.started": "2025-02-03T21:08:59.866840Z"
    },
    "trusted": true
   },
   "outputs": [],
   "source": [
    "def generate_label_mapping(root_dir, input_subdir, output_csv):\n",
    "    \"\"\"\n",
    "    Generate a CSV mapping input chips to corresponding segmentation maps.\n",
    "\n",
    "    Args:\n",
    "        root_dir (str or Path): Root directory containing the subdirectories for chips and segmentation maps.\n",
    "        input_subdir (str): Subdirectory path for chips within the root directory.\n",
    "        output_csv (str or Path): Output path for the generated CSV file.\n",
    "    \"\"\"\n",
    "    root_dir = Path(root_dir)\n",
    "    chips_orig = os.listdir(root_dir / input_subdir / \"chips\")\n",
    "    if os.path.exists(root_dir / input_subdir / \"seg_maps\"):\n",
    "        add_label = True\n",
    "    else:\n",
    "        add_label = False\n",
    "\n",
    "    chips = [chip.replace(\"chip\", f\"{input_subdir}/chips/chip\") for chip in chips_orig]\n",
    "\n",
    "    if add_label:\n",
    "        seg_maps = [chip.replace(\"chip\", f\"{input_subdir}/seg_maps/seg_map\") for chip in chips_orig]\n",
    "        df = pd.DataFrame({\"Input\": chips, \"Label\": seg_maps})\n",
    "    else:\n",
    "        df = pd.DataFrame({\"Input\": chips})\n",
    "    df.to_csv(output_csv, index=False)\n",
    "    \n",
    "    print(f\"Number of rows is: {df.shape[0]}\")\n",
    "    print(f\"CSV generated and saved to: {output_csv}\")"
   ]
  },
  {
   "cell_type": "code",
   "execution_count": 3,
   "metadata": {
    "execution": {
     "iopub.execute_input": "2025-02-03T21:08:59.876535Z",
     "iopub.status.busy": "2025-02-03T21:08:59.876279Z",
     "iopub.status.idle": "2025-02-03T21:08:59.900441Z",
     "shell.execute_reply": "2025-02-03T21:08:59.899838Z",
     "shell.execute_reply.started": "2025-02-03T21:08:59.876511Z"
    },
    "trusted": true
   },
   "outputs": [],
   "source": [
    "# set data folder path\n",
    "input_dir=\"geo-ai-hack\""
   ]
  },
  {
   "cell_type": "code",
   "execution_count": 4,
   "metadata": {
    "execution": {
     "iopub.execute_input": "2025-02-03T21:08:59.902568Z",
     "iopub.status.busy": "2025-02-03T21:08:59.902212Z",
     "iopub.status.idle": "2025-02-03T21:08:59.997974Z",
     "shell.execute_reply": "2025-02-03T21:08:59.997005Z",
     "shell.execute_reply.started": "2025-02-03T21:08:59.902537Z"
    },
    "trusted": true
   },
   "outputs": [
    {
     "name": "stdout",
     "output_type": "stream",
     "text": [
      "Number of rows is: 10428\n",
      "CSV generated and saved to: train_ds.csv\n",
      "Number of rows is: 2404\n",
      "CSV generated and saved to: test_ds.csv\n"
     ]
    }
   ],
   "source": [
    "# Generate label mappings for the training and testing datasets\n",
    "generate_label_mapping(input_dir, 'hls_train/hls_train', \"train_ds.csv\")\n",
    "generate_label_mapping(input_dir, 'hls_test/hls_test', \"test_ds.csv\")"
   ]
  },
  {
   "cell_type": "markdown",
   "metadata": {},
   "source": [
    "### Validation Set"
   ]
  },
  {
   "cell_type": "code",
   "execution_count": 5,
   "metadata": {
    "execution": {
     "iopub.execute_input": "2025-02-03T21:08:59.999369Z",
     "iopub.status.busy": "2025-02-03T21:08:59.999114Z",
     "iopub.status.idle": "2025-02-03T21:09:00.004745Z",
     "shell.execute_reply": "2025-02-03T21:09:00.003728Z",
     "shell.execute_reply.started": "2025-02-03T21:08:59.999337Z"
    },
    "trusted": true
   },
   "outputs": [],
   "source": [
    "def split_validation_data(mapping_csv, validation_split=0.3):\n",
    "    \"\"\"\n",
    "    Split data into training and validation sets based on a CSV file mapping `chips` and `seg_maps`.\n",
    "\n",
    "    Args:\n",
    "        mapping_csv (str or Path): Path to the CSV file containing the mapping between `chips` and `seg_maps`.\n",
    "        data_dir (str or Path): Path to the merged directory containing all files.\n",
    "        validation_dir (str or Path): Path to the new directory for validation files.\n",
    "        validation_split (float): Fraction of the data to use as the validation set.\n",
    "    \"\"\"\n",
    "    df = pd.read_csv(mapping_csv)\n",
    "    df = df.sample(frac=1, random_state=42).reset_index(drop=True)\n",
    "\n",
    "    num_val = int(len(df) * validation_split)\n",
    "    train_df = df[num_val:]\n",
    "    val_df = df[:num_val]\n",
    "    train_df.to_csv(\"train_split.csv\",index=False)    \n",
    "    print(f\"CSV train split  saved to: train_split.csv\")\n",
    "    val_df.to_csv(\"validation_split.csv\",index=False)    \n",
    "    print(f\"CSV validation split  saved to: validation_split.csv\")\n",
    "    \n",
    "    return \n",
    "    "
   ]
  },
  {
   "cell_type": "code",
   "execution_count": 6,
   "metadata": {
    "execution": {
     "iopub.execute_input": "2025-02-03T21:09:00.006210Z",
     "iopub.status.busy": "2025-02-03T21:09:00.005872Z",
     "iopub.status.idle": "2025-02-03T21:09:00.109873Z",
     "shell.execute_reply": "2025-02-03T21:09:00.108747Z",
     "shell.execute_reply.started": "2025-02-03T21:09:00.006176Z"
    },
    "trusted": true
   },
   "outputs": [
    {
     "name": "stdout",
     "output_type": "stream",
     "text": [
      "CSV train split  saved to: train_split.csv\n",
      "CSV validation split  saved to: validation_split.csv\n"
     ]
    }
   ],
   "source": [
    "# Split the training dataset into training and validation sets\n",
    "split_validation_data(\n",
    "    mapping_csv=\"train_ds.csv\",\n",
    "    validation_split=0.3\n",
    ")"
   ]
  },
  {
   "cell_type": "markdown",
   "metadata": {},
   "source": [
    "## InstaGeo - Model"
   ]
  },
  {
   "cell_type": "markdown",
   "metadata": {},
   "source": [
    "After creating our training and validation splits, we can move on to fine-tuning a model that includes a Prithvi backbone paired with a classification head. For regression tasks, the classification head can easily be replaced with a suitable regression head. Additionally, if a completely different model architecture is needed, it can be designed and implemented within this framework."
   ]
  },
  {
   "cell_type": "code",
   "execution_count": 7,
   "metadata": {
    "execution": {
     "iopub.execute_input": "2025-02-03T21:09:00.111068Z",
     "iopub.status.busy": "2025-02-03T21:09:00.110829Z",
     "iopub.status.idle": "2025-02-03T21:09:00.116190Z",
     "shell.execute_reply": "2025-02-03T21:09:00.115268Z",
     "shell.execute_reply.started": "2025-02-03T21:09:00.111047Z"
    },
    "trusted": true
   },
   "outputs": [],
   "source": [
    "def load_yml(filepath):\n",
    "    \"\"\"Load data from a YAML file.\n",
    "\n",
    "    Args:\n",
    "        filepath (str | Path): The path to the YAML file.\n",
    "\n",
    "    Returns:\n",
    "        Dict: The loaded data, or None if the file does not exist.\n",
    "    \"\"\"\n",
    "    filepath=Path(filepath)\n",
    "    with filepath.open() as f:\n",
    "        return yaml.safe_load(f)\n",
    "        \n",
    "def save_yml(data,filepath):\n",
    "    \"\"\"Save data to a YAML file.\n",
    "\n",
    "    Args:\n",
    "        data (Dict): The data to save.\n",
    "        filepath (str | Path): The file path to save the YAML to.\n",
    "    \"\"\"\n",
    "    filepath = Path(filepath)\n",
    "    with filepath.open(\"w\") as f:\n",
    "        yaml.dump(data, f)\n",
    "    print(f\"Data saved to {filepath}.\")\n"
   ]
  },
  {
   "cell_type": "markdown",
   "metadata": {},
   "source": [
    "### Launch Training"
   ]
  },
  {
   "cell_type": "markdown",
   "metadata": {},
   "source": [
    "\n",
    "First, compute the mean and standard deviation for the dataset using the InstaGeo command. Then update the corresponding configuration file [locust.yaml](https://github.com/instadeepai/InstaGeo-E2E-Geospatial-ML/blob/main/instageo/model/configs/locust.yaml). In this case, it has already been done for you. However, if you change the dataset split or modify the training data, you should run the command again to compute the new mean and standard deviation."
   ]
  },
  {
   "cell_type": "code",
   "execution_count": null,
   "metadata": {
    "execution": {
     "iopub.execute_input": "2025-02-03T21:09:00.117672Z",
     "iopub.status.busy": "2025-02-03T21:09:00.117362Z",
     "iopub.status.idle": "2025-02-03T21:09:00.138251Z",
     "shell.execute_reply": "2025-02-03T21:09:00.137296Z",
     "shell.execute_reply.started": "2025-02-03T21:09:00.117650Z"
    },
    "trusted": true
   },
   "outputs": [],
   "source": [
    "# %%bash\n",
    "# python -m instageo.model.run --config-name=locust \\\n",
    "#     root_dir=\"/kaggle/input/geo-ai-hack\" \\\n",
    "#     train.batch_size=8 \\\n",
    "#     train.num_epochs=5 \\\n",
    "#     mode=stats \\\n",
    "#     train_filepath=\"train_ds.csv\" \\"
   ]
  },
  {
   "cell_type": "code",
   "execution_count": 9,
   "metadata": {
    "execution": {
     "iopub.execute_input": "2025-02-03T21:09:00.139863Z",
     "iopub.status.busy": "2025-02-03T21:09:00.139486Z",
     "iopub.status.idle": "2025-02-03T21:09:00.169135Z",
     "shell.execute_reply": "2025-02-03T21:09:00.168190Z",
     "shell.execute_reply.started": "2025-02-03T21:09:00.139830Z"
    },
    "trusted": true
   },
   "outputs": [
    {
     "name": "stdout",
     "output_type": "stream",
     "text": [
      "Data saved to instageo/model/configs/locust.yaml.\n"
     ]
    }
   ],
   "source": [
    "# Updat locust file\n",
    "# Load the Locust model configuration file\n",
    "locust_cfg_path=\"instageo/model/configs/locust.yaml\"\n",
    "# Load the YAML configuration into a dictionary\n",
    "locust_cfg=load_yml(locust_cfg_path)\n",
    "# Update the mean and standard deviation values in the configuration\n",
    "locust_cfg[\"dataloader\"][\"mean\"]=[670.5441284179688, 1267.7974853515625, 1772.599365234375, 2415.69091796875, 2879.2431640625, 2337.822509765625]\n",
    "locust_cfg[\"dataloader\"][\"std\"]=[2146.305419921875, 2203.416259765625, 2247.03515625, 2310.74755859375, 2322.708984375, 2211.968505859375]\n",
    "# Save the updated configuration back to the YAML file\n",
    "save_yml(locust_cfg,locust_cfg_path)"
   ]
  },
  {
   "cell_type": "code",
   "execution_count": null,
   "metadata": {
    "execution": {
     "iopub.execute_input": "2025-02-03T21:09:00.170310Z",
     "iopub.status.busy": "2025-02-03T21:09:00.169999Z"
    },
    "trusted": true
   },
   "outputs": [
    {
     "name": "stdout",
     "output_type": "stream",
     "text": [
      "Seed set to 1042\n",
      "[2025-02-04 18:16:33,075][__main__][INFO] - Script: /Users/hakimdiouane/Documents/desert_locust_breeding_detection/benchmark_desert_locust_detection/Desert_Locust_Breeding_Detection/latest_git_repo/instageo/model/run.py\n",
      "[2025-02-04 18:16:33,076][__main__][INFO] - Imported hydra config:\n",
      "checkpoint_path: null\n",
      "dataloader:\n",
      "  bands:\n",
      "  - 0\n",
      "  - 1\n",
      "  - 2\n",
      "  - 3\n",
      "  - 4\n",
      "  - 5\n",
      "  - 6\n",
      "  - 7\n",
      "  - 8\n",
      "  - 9\n",
      "  - 10\n",
      "  - 11\n",
      "  - 12\n",
      "  - 13\n",
      "  - 14\n",
      "  - 15\n",
      "  - 16\n",
      "  - 17\n",
      "  constant_multiplier: 1.0\n",
      "  img_size: 256\n",
      "  mean:\n",
      "  - 670.5441284179688\n",
      "  - 1267.7974853515625\n",
      "  - 1772.599365234375\n",
      "  - 2415.69091796875\n",
      "  - 2879.2431640625\n",
      "  - 2337.822509765625\n",
      "  no_data_value: -9999\n",
      "  reduce_to_zero: false\n",
      "  replace_label:\n",
      "  - -9999\n",
      "  - -1\n",
      "  std:\n",
      "  - 2146.305419921875\n",
      "  - 2203.416259765625\n",
      "  - 2247.03515625\n",
      "  - 2310.74755859375\n",
      "  - 2322.708984375\n",
      "  - 2211.968505859375\n",
      "  temporal_dim: 3\n",
      "mode: train\n",
      "model:\n",
      "  freeze_backbone: false\n",
      "  num_classes: 2\n",
      "root_dir: geo-ai-hack\n",
      "test:\n",
      "  crop_size: 256\n",
      "  img_size: 256\n",
      "  mask_cloud: false\n",
      "  stride: 256\n",
      "test_filepath: null\n",
      "train:\n",
      "  batch_size: 8\n",
      "  class_weights:\n",
      "  - 1\n",
      "  - 1\n",
      "  ignore_index: -1\n",
      "  learning_rate: 0.0001\n",
      "  num_epochs: 1\n",
      "  weight_decay: 0.1\n",
      "train_filepath: train_split.csv\n",
      "valid_filepath: validation_split.csv\n",
      "\n",
      "[2025-02-04 18:17:41,377][absl][INFO] - Download successful on attempt 1\n",
      "[2025-02-04 18:17:41,900][absl][INFO] - Download successful on attempt 1\n",
      "[2025-02-04 18:17:42,856][root][INFO] - Neither GPU nor TPU is available. Using CPU...\n",
      "GPU available: True (mps), used: False\n",
      "TPU available: False, using: 0 TPU cores\n",
      "HPU available: False, using: 0 HPUs\n",
      "/Users/hakimdiouane/Documents/desert_locust_breeding_detection/benchmark_desert_locust_detection/Desert_Locust_Breeding_Detection/.env/lib/python3.13/site-packages/pytorch_lightning/trainer/setup.py:177: GPU available but not used. You can set it by doing `Trainer(accelerator='gpu')`.\n",
      "/Users/hakimdiouane/Documents/desert_locust_breeding_detection/benchmark_desert_locust_detection/Desert_Locust_Breeding_Detection/.env/lib/python3.13/site-packages/pytorch_lightning/callbacks/model_checkpoint.py:654: Checkpoint directory /Users/hakimdiouane/Documents/desert_locust_breeding_detection/benchmark_desert_locust_detection/Desert_Locust_Breeding_Detection/kaggle_workspace/outputs/first_run exists and is not empty.\n",
      "\n",
      "  | Name      | Type             | Params | Mode \n",
      "-------------------------------------------------------\n",
      "0 | net       | PrithviSeg       | 134 M  | train\n",
      "1 | criterion | CrossEntropyLoss | 0      | train\n",
      "-------------------------------------------------------\n",
      "133 M     Trainable params\n",
      "590 K     Non-trainable params\n",
      "134 M     Total params\n",
      "537.703   Total estimated model params size (MB)\n",
      "198       Modules in train mode\n",
      "0         Modules in eval mode\n",
      "Sanity Checking: |                                        | 0/? [00:00<?, ?it/s]/Users/hakimdiouane/Documents/desert_locust_breeding_detection/benchmark_desert_locust_detection/Desert_Locust_Breeding_Detection/.env/lib/python3.13/site-packages/pytorch_lightning/trainer/connectors/data_connector.py:420: Consider setting `persistent_workers=True` in 'val_dataloader' to speed up the dataloader worker initialization.\n",
      "Seed set to 1042\n",
      "Error executing job with overrides: ['root_dir=geo-ai-hack', 'train.batch_size=8', 'train.num_epochs=1', 'mode=train', 'train_filepath=train_split.csv', 'valid_filepath=validation_split.csv']\n",
      "Traceback (most recent call last):\n",
      "  File \u001b[35m\"<frozen runpy>\"\u001b[0m, line \u001b[35m198\u001b[0m, in \u001b[35m_run_module_as_main\u001b[0m\n",
      "  File \u001b[35m\"<frozen runpy>\"\u001b[0m, line \u001b[35m88\u001b[0m, in \u001b[35m_run_code\u001b[0m\n",
      "  File \u001b[35m\"/Users/hakimdiouane/Documents/desert_locust_breeding_detection/benchmark_desert_locust_detection/Desert_Locust_Breeding_Detection/latest_git_repo/instageo/model/run.py\"\u001b[0m, line \u001b[35m822\u001b[0m, in \u001b[35m<module>\u001b[0m\n",
      "    \u001b[31mmain\u001b[0m\u001b[1;31m()\u001b[0m\n",
      "    \u001b[31m~~~~\u001b[0m\u001b[1;31m^^\u001b[0m\n",
      "  File \u001b[35m\"/Users/hakimdiouane/Documents/desert_locust_breeding_detection/benchmark_desert_locust_detection/Desert_Locust_Breeding_Detection/.env/lib/python3.13/site-packages/hydra/main.py\"\u001b[0m, line \u001b[35m94\u001b[0m, in \u001b[35mdecorated_main\u001b[0m\n",
      "    \u001b[31m_run_hydra\u001b[0m\u001b[1;31m(\u001b[0m\n",
      "    \u001b[31m~~~~~~~~~~\u001b[0m\u001b[1;31m^\u001b[0m\n",
      "        \u001b[1;31margs=args,\u001b[0m\n",
      "        \u001b[1;31m^^^^^^^^^^\u001b[0m\n",
      "    ...<3 lines>...\n",
      "        \u001b[1;31mconfig_name=config_name,\u001b[0m\n",
      "        \u001b[1;31m^^^^^^^^^^^^^^^^^^^^^^^^\u001b[0m\n",
      "    \u001b[1;31m)\u001b[0m\n",
      "    \u001b[1;31m^\u001b[0m\n",
      "  File \u001b[35m\"/Users/hakimdiouane/Documents/desert_locust_breeding_detection/benchmark_desert_locust_detection/Desert_Locust_Breeding_Detection/.env/lib/python3.13/site-packages/hydra/_internal/utils.py\"\u001b[0m, line \u001b[35m394\u001b[0m, in \u001b[35m_run_hydra\u001b[0m\n",
      "    \u001b[31m_run_app\u001b[0m\u001b[1;31m(\u001b[0m\n",
      "    \u001b[31m~~~~~~~~\u001b[0m\u001b[1;31m^\u001b[0m\n",
      "        \u001b[1;31mrun=args.run,\u001b[0m\n",
      "        \u001b[1;31m^^^^^^^^^^^^^\u001b[0m\n",
      "    ...<5 lines>...\n",
      "        \u001b[1;31moverrides=overrides,\u001b[0m\n",
      "        \u001b[1;31m^^^^^^^^^^^^^^^^^^^^\u001b[0m\n",
      "    \u001b[1;31m)\u001b[0m\n",
      "    \u001b[1;31m^\u001b[0m\n",
      "  File \u001b[35m\"/Users/hakimdiouane/Documents/desert_locust_breeding_detection/benchmark_desert_locust_detection/Desert_Locust_Breeding_Detection/.env/lib/python3.13/site-packages/hydra/_internal/utils.py\"\u001b[0m, line \u001b[35m457\u001b[0m, in \u001b[35m_run_app\u001b[0m\n",
      "    \u001b[31mrun_and_report\u001b[0m\u001b[1;31m(\u001b[0m\n",
      "    \u001b[31m~~~~~~~~~~~~~~\u001b[0m\u001b[1;31m^\u001b[0m\n",
      "        \u001b[1;31mlambda: hydra.run(\u001b[0m\n",
      "        \u001b[1;31m^^^^^^^^^^^^^^^^^^\u001b[0m\n",
      "    ...<3 lines>...\n",
      "        \u001b[1;31m)\u001b[0m\n",
      "        \u001b[1;31m^\u001b[0m\n",
      "    \u001b[1;31m)\u001b[0m\n",
      "    \u001b[1;31m^\u001b[0m\n",
      "  File \u001b[35m\"/Users/hakimdiouane/Documents/desert_locust_breeding_detection/benchmark_desert_locust_detection/Desert_Locust_Breeding_Detection/.env/lib/python3.13/site-packages/hydra/_internal/utils.py\"\u001b[0m, line \u001b[35m223\u001b[0m, in \u001b[35mrun_and_report\u001b[0m\n",
      "    raise ex\n",
      "  File \u001b[35m\"/Users/hakimdiouane/Documents/desert_locust_breeding_detection/benchmark_desert_locust_detection/Desert_Locust_Breeding_Detection/.env/lib/python3.13/site-packages/hydra/_internal/utils.py\"\u001b[0m, line \u001b[35m220\u001b[0m, in \u001b[35mrun_and_report\u001b[0m\n",
      "    return func()\n",
      "  File \u001b[35m\"/Users/hakimdiouane/Documents/desert_locust_breeding_detection/benchmark_desert_locust_detection/Desert_Locust_Breeding_Detection/.env/lib/python3.13/site-packages/hydra/_internal/utils.py\"\u001b[0m, line \u001b[35m458\u001b[0m, in \u001b[35m<lambda>\u001b[0m\n",
      "    lambda: \u001b[31mhydra.run\u001b[0m\u001b[1;31m(\u001b[0m\n",
      "            \u001b[31m~~~~~~~~~\u001b[0m\u001b[1;31m^\u001b[0m\n",
      "        \u001b[1;31mconfig_name=config_name,\u001b[0m\n",
      "        \u001b[1;31m^^^^^^^^^^^^^^^^^^^^^^^^\u001b[0m\n",
      "        \u001b[1;31mtask_function=task_function,\u001b[0m\n",
      "        \u001b[1;31m^^^^^^^^^^^^^^^^^^^^^^^^^^^^\u001b[0m\n",
      "        \u001b[1;31moverrides=overrides,\u001b[0m\n",
      "        \u001b[1;31m^^^^^^^^^^^^^^^^^^^^\u001b[0m\n",
      "    \u001b[1;31m)\u001b[0m\n",
      "    \u001b[1;31m^\u001b[0m\n",
      "  File \u001b[35m\"/Users/hakimdiouane/Documents/desert_locust_breeding_detection/benchmark_desert_locust_detection/Desert_Locust_Breeding_Detection/.env/lib/python3.13/site-packages/hydra/_internal/hydra.py\"\u001b[0m, line \u001b[35m132\u001b[0m, in \u001b[35mrun\u001b[0m\n",
      "    _ = \u001b[1;31mret.return_value\u001b[0m\n",
      "        \u001b[1;31m^^^^^^^^^^^^^^^^\u001b[0m\n",
      "  File \u001b[35m\"/Users/hakimdiouane/Documents/desert_locust_breeding_detection/benchmark_desert_locust_detection/Desert_Locust_Breeding_Detection/.env/lib/python3.13/site-packages/hydra/core/utils.py\"\u001b[0m, line \u001b[35m260\u001b[0m, in \u001b[35mreturn_value\u001b[0m\n",
      "    raise self._return_value\n",
      "  File \u001b[35m\"/Users/hakimdiouane/Documents/desert_locust_breeding_detection/benchmark_desert_locust_detection/Desert_Locust_Breeding_Detection/.env/lib/python3.13/site-packages/hydra/core/utils.py\"\u001b[0m, line \u001b[35m186\u001b[0m, in \u001b[35mrun_job\u001b[0m\n",
      "    ret.return_value = \u001b[31mtask_function\u001b[0m\u001b[1;31m(task_cfg)\u001b[0m\n",
      "                       \u001b[31m~~~~~~~~~~~~~\u001b[0m\u001b[1;31m^^^^^^^^^^\u001b[0m\n",
      "  File \u001b[35m\"/Users/hakimdiouane/Documents/desert_locust_breeding_detection/benchmark_desert_locust_detection/Desert_Locust_Breeding_Detection/latest_git_repo/instageo/model/run.py\"\u001b[0m, line \u001b[35m595\u001b[0m, in \u001b[35mmain\u001b[0m\n",
      "    \u001b[31mtrainer.fit\u001b[0m\u001b[1;31m(model, train_loader, valid_loader)\u001b[0m\n",
      "    \u001b[31m~~~~~~~~~~~\u001b[0m\u001b[1;31m^^^^^^^^^^^^^^^^^^^^^^^^^^^^^^^^^^^\u001b[0m\n",
      "  File \u001b[35m\"/Users/hakimdiouane/Documents/desert_locust_breeding_detection/benchmark_desert_locust_detection/Desert_Locust_Breeding_Detection/.env/lib/python3.13/site-packages/pytorch_lightning/trainer/trainer.py\"\u001b[0m, line \u001b[35m539\u001b[0m, in \u001b[35mfit\u001b[0m\n",
      "    \u001b[31mcall._call_and_handle_interrupt\u001b[0m\u001b[1;31m(\u001b[0m\n",
      "    \u001b[31m~~~~~~~~~~~~~~~~~~~~~~~~~~~~~~~\u001b[0m\u001b[1;31m^\u001b[0m\n",
      "        \u001b[1;31mself, self._fit_impl, model, train_dataloaders, val_dataloaders, datamodule, ckpt_path\u001b[0m\n",
      "        \u001b[1;31m^^^^^^^^^^^^^^^^^^^^^^^^^^^^^^^^^^^^^^^^^^^^^^^^^^^^^^^^^^^^^^^^^^^^^^^^^^^^^^^^^^^^^^\u001b[0m\n",
      "    \u001b[1;31m)\u001b[0m\n",
      "    \u001b[1;31m^\u001b[0m\n",
      "  File \u001b[35m\"/Users/hakimdiouane/Documents/desert_locust_breeding_detection/benchmark_desert_locust_detection/Desert_Locust_Breeding_Detection/.env/lib/python3.13/site-packages/pytorch_lightning/trainer/call.py\"\u001b[0m, line \u001b[35m47\u001b[0m, in \u001b[35m_call_and_handle_interrupt\u001b[0m\n",
      "    return trainer_fn(*args, **kwargs)\n",
      "  File \u001b[35m\"/Users/hakimdiouane/Documents/desert_locust_breeding_detection/benchmark_desert_locust_detection/Desert_Locust_Breeding_Detection/.env/lib/python3.13/site-packages/pytorch_lightning/trainer/trainer.py\"\u001b[0m, line \u001b[35m575\u001b[0m, in \u001b[35m_fit_impl\u001b[0m\n",
      "    \u001b[31mself._run\u001b[0m\u001b[1;31m(model, ckpt_path=ckpt_path)\u001b[0m\n",
      "    \u001b[31m~~~~~~~~~\u001b[0m\u001b[1;31m^^^^^^^^^^^^^^^^^^^^^^^^^^^^\u001b[0m\n",
      "  File \u001b[35m\"/Users/hakimdiouane/Documents/desert_locust_breeding_detection/benchmark_desert_locust_detection/Desert_Locust_Breeding_Detection/.env/lib/python3.13/site-packages/pytorch_lightning/trainer/trainer.py\"\u001b[0m, line \u001b[35m982\u001b[0m, in \u001b[35m_run\u001b[0m\n",
      "    results = self._run_stage()\n",
      "  File \u001b[35m\"/Users/hakimdiouane/Documents/desert_locust_breeding_detection/benchmark_desert_locust_detection/Desert_Locust_Breeding_Detection/.env/lib/python3.13/site-packages/pytorch_lightning/trainer/trainer.py\"\u001b[0m, line \u001b[35m1024\u001b[0m, in \u001b[35m_run_stage\u001b[0m\n",
      "    \u001b[31mself._run_sanity_check\u001b[0m\u001b[1;31m()\u001b[0m\n",
      "    \u001b[31m~~~~~~~~~~~~~~~~~~~~~~\u001b[0m\u001b[1;31m^^\u001b[0m\n",
      "  File \u001b[35m\"/Users/hakimdiouane/Documents/desert_locust_breeding_detection/benchmark_desert_locust_detection/Desert_Locust_Breeding_Detection/.env/lib/python3.13/site-packages/pytorch_lightning/trainer/trainer.py\"\u001b[0m, line \u001b[35m1053\u001b[0m, in \u001b[35m_run_sanity_check\u001b[0m\n",
      "    \u001b[31mval_loop.run\u001b[0m\u001b[1;31m()\u001b[0m\n",
      "    \u001b[31m~~~~~~~~~~~~\u001b[0m\u001b[1;31m^^\u001b[0m\n",
      "  File \u001b[35m\"/Users/hakimdiouane/Documents/desert_locust_breeding_detection/benchmark_desert_locust_detection/Desert_Locust_Breeding_Detection/.env/lib/python3.13/site-packages/pytorch_lightning/loops/utilities.py\"\u001b[0m, line \u001b[35m179\u001b[0m, in \u001b[35m_decorator\u001b[0m\n",
      "    return loop_run(self, *args, **kwargs)\n",
      "  File \u001b[35m\"/Users/hakimdiouane/Documents/desert_locust_breeding_detection/benchmark_desert_locust_detection/Desert_Locust_Breeding_Detection/.env/lib/python3.13/site-packages/pytorch_lightning/loops/evaluation_loop.py\"\u001b[0m, line \u001b[35m137\u001b[0m, in \u001b[35mrun\u001b[0m\n",
      "    batch, batch_idx, dataloader_idx = \u001b[31mnext\u001b[0m\u001b[1;31m(data_fetcher)\u001b[0m\n",
      "                                       \u001b[31m~~~~\u001b[0m\u001b[1;31m^^^^^^^^^^^^^^\u001b[0m\n",
      "  File \u001b[35m\"/Users/hakimdiouane/Documents/desert_locust_breeding_detection/benchmark_desert_locust_detection/Desert_Locust_Breeding_Detection/.env/lib/python3.13/site-packages/pytorch_lightning/loops/fetchers.py\"\u001b[0m, line \u001b[35m134\u001b[0m, in \u001b[35m__next__\u001b[0m\n",
      "    batch = super().__next__()\n",
      "  File \u001b[35m\"/Users/hakimdiouane/Documents/desert_locust_breeding_detection/benchmark_desert_locust_detection/Desert_Locust_Breeding_Detection/.env/lib/python3.13/site-packages/pytorch_lightning/loops/fetchers.py\"\u001b[0m, line \u001b[35m61\u001b[0m, in \u001b[35m__next__\u001b[0m\n",
      "    batch = next(self.iterator)\n",
      "  File \u001b[35m\"/Users/hakimdiouane/Documents/desert_locust_breeding_detection/benchmark_desert_locust_detection/Desert_Locust_Breeding_Detection/.env/lib/python3.13/site-packages/pytorch_lightning/utilities/combined_loader.py\"\u001b[0m, line \u001b[35m341\u001b[0m, in \u001b[35m__next__\u001b[0m\n",
      "    out = next(self._iterator)\n",
      "  File \u001b[35m\"/Users/hakimdiouane/Documents/desert_locust_breeding_detection/benchmark_desert_locust_detection/Desert_Locust_Breeding_Detection/.env/lib/python3.13/site-packages/pytorch_lightning/utilities/combined_loader.py\"\u001b[0m, line \u001b[35m142\u001b[0m, in \u001b[35m__next__\u001b[0m\n",
      "    out = next(self.iterators[0])\n",
      "  File \u001b[35m\"/Users/hakimdiouane/Documents/desert_locust_breeding_detection/benchmark_desert_locust_detection/Desert_Locust_Breeding_Detection/.env/lib/python3.13/site-packages/torch/utils/data/dataloader.py\"\u001b[0m, line \u001b[35m708\u001b[0m, in \u001b[35m__next__\u001b[0m\n",
      "    data = self._next_data()\n",
      "  File \u001b[35m\"/Users/hakimdiouane/Documents/desert_locust_breeding_detection/benchmark_desert_locust_detection/Desert_Locust_Breeding_Detection/.env/lib/python3.13/site-packages/torch/utils/data/dataloader.py\"\u001b[0m, line \u001b[35m1480\u001b[0m, in \u001b[35m_next_data\u001b[0m\n",
      "    return \u001b[31mself._process_data\u001b[0m\u001b[1;31m(data)\u001b[0m\n",
      "           \u001b[31m~~~~~~~~~~~~~~~~~~\u001b[0m\u001b[1;31m^^^^^^\u001b[0m\n",
      "  File \u001b[35m\"/Users/hakimdiouane/Documents/desert_locust_breeding_detection/benchmark_desert_locust_detection/Desert_Locust_Breeding_Detection/.env/lib/python3.13/site-packages/torch/utils/data/dataloader.py\"\u001b[0m, line \u001b[35m1505\u001b[0m, in \u001b[35m_process_data\u001b[0m\n",
      "    \u001b[31mdata.reraise\u001b[0m\u001b[1;31m()\u001b[0m\n",
      "    \u001b[31m~~~~~~~~~~~~\u001b[0m\u001b[1;31m^^\u001b[0m\n",
      "  File \u001b[35m\"/Users/hakimdiouane/Documents/desert_locust_breeding_detection/benchmark_desert_locust_detection/Desert_Locust_Breeding_Detection/.env/lib/python3.13/site-packages/torch/_utils.py\"\u001b[0m, line \u001b[35m732\u001b[0m, in \u001b[35mreraise\u001b[0m\n",
      "    raise RuntimeError(msg) from None\n",
      "\u001b[1;35mRuntimeError\u001b[0m: \u001b[35mCaught UFuncTypeError in DataLoader worker process 0.\n",
      "Original Traceback (most recent call last):\n",
      "  File \"/Users/hakimdiouane/Documents/desert_locust_breeding_detection/benchmark_desert_locust_detection/Desert_Locust_Breeding_Detection/.env/lib/python3.13/site-packages/torch/utils/data/_utils/worker.py\", line 349, in _worker_loop\n",
      "    data = fetcher.fetch(index)  # type: ignore[possibly-undefined]\n",
      "  File \"/Users/hakimdiouane/Documents/desert_locust_breeding_detection/benchmark_desert_locust_detection/Desert_Locust_Breeding_Detection/.env/lib/python3.13/site-packages/torch/utils/data/_utils/fetch.py\", line 52, in fetch\n",
      "    data = [self.dataset[idx] for idx in possibly_batched_index]\n",
      "            ~~~~~~~~~~~~^^^^^\n",
      "  File \"/Users/hakimdiouane/Documents/desert_locust_breeding_detection/benchmark_desert_locust_detection/Desert_Locust_Breeding_Detection/latest_git_repo/instageo/model/dataloader.py\", line 386, in __getitem__\n",
      "    arr_x, arr_y = process_data(\n",
      "                   ~~~~~~~~~~~~^\n",
      "        im_fname,\n",
      "        ^^^^^^^^^\n",
      "    ...<5 lines>...\n",
      "        constant_multiplier=self.constant_multiplier,\n",
      "        ^^^^^^^^^^^^^^^^^^^^^^^^^^^^^^^^^^^^^^^^^^^^^\n",
      "    )\n",
      "    ^\n",
      "  File \"/Users/hakimdiouane/Documents/desert_locust_breeding_detection/benchmark_desert_locust_detection/Desert_Locust_Breeding_Detection/latest_git_repo/instageo/model/dataloader.py\", line 286, in process_data\n",
      "    arr_x = get_raster_data(\n",
      "        im_fname,\n",
      "    ...<4 lines>...\n",
      "        water_mask=False,\n",
      "    )\n",
      "  File \"/Users/hakimdiouane/Documents/desert_locust_breeding_detection/benchmark_desert_locust_detection/Desert_Locust_Breeding_Detection/latest_git_repo/instageo/model/dataloader.py\", line 254, in get_raster_data\n",
      "    band *= 0.0001\n",
      "numpy.core._exceptions._UFuncOutputCastingError: Cannot cast ufunc 'multiply' output from dtype('float64') to dtype('int16') with casting rule 'same_kind'\n",
      "\u001b[0m\n",
      "                                                                                \r"
     ]
    }
   ],
   "source": [
    "# Train the InstaGeo model using the Locust configuration\n",
    "!python -m instageo.model.run  --config-name=locust \\\n",
    "    hydra.run.dir=\"/kaggle/working/outputs/first_run\" \\\n",
    "    root_dir=\"/kaggle/input/geo-ai-hack\" \\\n",
    "    train.batch_size=8 \\\n",
    "    train.num_epochs=6 \\\n",
    "    mode=train \\\n",
    "    train_filepath=\"train_split.csv\" \\\n",
    "    valid_filepath=\"validation_split.csv\""
   ]
  },
  {
   "cell_type": "markdown",
   "metadata": {},
   "source": [
    "### Run Model Evaluation\n",
    " To evaluate the model, adjust the `checkpoint_path` argument to point to the desired model checkpoint. The checkpoint file is typically located in the `hydra.run.dir` directory and is named `instageo_best_checkpoint.ckpt`.\n",
    "For example:\n",
    "```\n",
    "/kaggle/working/outputs/first_run/instageo_best_checkpoint.ckpt \n",
    "```\n",
    "Make sure to provide the correct path to the checkpoint file based on your training output directory."
   ]
  },
  {
   "cell_type": "code",
   "execution_count": null,
   "metadata": {
    "trusted": true
   },
   "outputs": [],
   "source": [
    "%%bash\n",
    "python -m instageo.model.run --config-name=locust \\\n",
    "    root_dir=\"/kaggle/input/geo-ai-hack\" \\\n",
    "    test_filepath=\"validation_split.csv\" \\\n",
    "    train.batch_size=16 \\\n",
    "    checkpoint_path='/kaggle/working/outputs/first_run/instageo_best_checkpoint.ckpt' \\\n",
    "    mode=eval"
   ]
  },
  {
   "cell_type": "markdown",
   "metadata": {},
   "source": [
    "## Make Submission"
   ]
  },
  {
   "cell_type": "markdown",
   "metadata": {},
   "source": [
    "We first run inference on test chips to get the predictions"
   ]
  },
  {
   "cell_type": "code",
   "execution_count": null,
   "metadata": {
    "trusted": true
   },
   "outputs": [],
   "source": [
    "%%bash\n",
    "python -m instageo.model.run --config-name=locust \\\n",
    "    root_dir=\"/kaggle/input/geo-ai-hack\" \\\n",
    "    test_filepath=\"test_ds.csv\" \\\n",
    "    train.batch_size=16 \\\n",
    "    checkpoint_path='/kaggle/working/outputs/first_run/instageo_best_checkpoint.ckpt' \\\n",
    "    output_dir='/kaggle/working/predictions' \\\n",
    "    mode=chip_inference"
   ]
  },
  {
   "cell_type": "markdown",
   "metadata": {},
   "source": [
    "After getting the prdictions for each chip, we retrieve the predicted value for each observatio in our test split."
   ]
  },
  {
   "cell_type": "code",
   "execution_count": null,
   "metadata": {
    "trusted": true
   },
   "outputs": [],
   "source": [
    "\n",
    "\n",
    "predictions_directory = \"/kaggle/working/predictions\"\n",
    "prediction_files = os.listdir(predictions_directory)\n",
    "\n",
    "def get_prediction_value(row):\n",
    "    matching_files = [f for f in prediction_files if (str(row['date']) in f) and (row['mgrs_tile_id'] in f)]\n",
    "    if not matching_files:\n",
    "        return (np.nan, np.nan)\n",
    "    for file in matching_files:\n",
    "        with rasterio.open(f\"{predictions_directory}/{file}\") as src:\n",
    "            width, height = src.width, src.height\n",
    "            affine_transform = rasterio.transform.AffineTransformer(src.transform)\n",
    "            transformer = Transformer.from_crs(CRS.from_epsg(4326), src.crs, always_xy=True)\n",
    "            x_chip, y_chip = transformer.transform(row['x'], row['y'])\n",
    "            x_offset, y_offset = affine_transform.rowcol(x_chip, y_chip)\n",
    "            \n",
    "            if 0 <= x_offset < width and 0 <= y_offset < height:\n",
    "                return src.read(1)[y_offset, x_offset], file\n",
    "    return (np.nan, np.nan)"
   ]
  },
  {
   "cell_type": "code",
   "execution_count": null,
   "metadata": {
    "trusted": true
   },
   "outputs": [],
   "source": [
    "submission_df = pd.read_csv(\"/kaggle/input/geo-ai-hack/test.csv\")\n",
    "\n",
    "submission_df[['prediction', 'filename']] = submission_df.apply(get_prediction_value, axis=1, result_type='expand')\n",
    "submission_df[[\"id\",\"prediction\"]].to_csv(\"hls_submission.csv\",index=False)"
   ]
  }
 ],
 "metadata": {
  "kaggle": {
   "accelerator": "nvidiaTeslaT4",
   "dataSources": [
    {
     "databundleVersionId": 10991118,
     "sourceId": 91683,
     "sourceType": "competition"
    }
   ],
   "dockerImageVersionId": 30839,
   "isGpuEnabled": true,
   "isInternetEnabled": true,
   "language": "python",
   "sourceType": "notebook"
  },
  "kernelspec": {
   "display_name": ".env",
   "language": "python",
   "name": "python3"
  },
  "language_info": {
   "codemirror_mode": {
    "name": "ipython",
    "version": 3
   },
   "file_extension": ".py",
   "mimetype": "text/x-python",
   "name": "python",
   "nbconvert_exporter": "python",
   "pygments_lexer": "ipython3",
   "version": "3.13.1"
  }
 },
 "nbformat": 4,
 "nbformat_minor": 4
}
